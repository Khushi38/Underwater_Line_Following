{
 "cells": [
  {
   "cell_type": "code",
   "execution_count": 116,
   "metadata": {},
   "outputs": [],
   "source": [
    "import time\n",
    "import cv2\n",
    "import numpy as np\n",
    "img=cv2.imread(r'C:\\Users\\Welcome\\Desktop\\pool2.png')"
   ]
  },
  {
   "cell_type": "code",
   "execution_count": 117,
   "metadata": {},
   "outputs": [],
   "source": [
    "im = np.zeros((img.shape[0],img.shape[1]),dtype = int)\n",
    "im = 0.6*img[:,:,0] + 0.2*img[:,:,1] + 0.2*img[:,:,2]\n",
    "im = cv2.normalize(im.astype(int), None, 255,0, cv2.NORM_MINMAX, cv2.CV_8UC1)\n",
    "        #applying sharpnening\n",
    "kernel_sharpening = np.array([[-1,-1,-1], \n",
    "                              [-1, 9,-1],\n",
    "                              [-1,-1,-1]])\n",
    "        \n",
    "sharpened = cv2.filter2D(im, -1, kernel_sharpening)\n",
    "        #applying blur\n",
    "img3 = cv2.medianBlur(sharpened,5)\n",
    "#cv2.imshow('123',img3)\n",
    "               "
   ]
  },
  {
   "cell_type": "code",
   "execution_count": 122,
   "metadata": {},
   "outputs": [],
   "source": [
    "def line_follow():\n",
    "    ret, threshed_img = cv2.threshold(img3,127, 255, cv2.THRESH_BINARY)\n",
    "    width = threshed_img.shape[0]\n",
    "    height = threshed_img.shape[1]\n",
    "\n",
    "    img5 = threshed_img[5:width-5,5:height-5]\n",
    "    img5 = cv2.dilate(img5,(9,9),iterations=2)\n",
    "    img5 = 255-img5\n",
    "    image, contours, hierarchy = cv2.findContours(img5,cv2.RETR_TREE,cv2.CHAIN_APPROX_SIMPLE)\n",
    "    areas = [cv2.contourArea(c) for c in contours]\n",
    "    if len(areas) >= 0 :\n",
    "        max_index= np.argmax(areas)\n",
    "        contours1 = contours[max_index]\n",
    "    \n",
    "    \n",
    "    if len(contours1) > 0 :\n",
    "        x1,y1,w1,h1 = cv2.boundingRect(contours1)\n",
    "        #print(x1,y1,w1,h1)\n",
    "        if (x1 >= 0 and y1>=0 and w1 >=0 and h1>=0 ):\n",
    "            #frame =cv2.line(frame, (x1+int(w1/2), 200), (x1+int(w1/2), 250),(255,0,0),3)\n",
    "            frame =cv2.rectangle(img,(int(x1),int(y1)),(int(x1+w1), int(y1+h1)),(0,255,255),5)\n",
    "    # compute the center of the contour\n",
    "    M = cv2.moments(contours1)\n",
    "    cX = int(M[\"m10\"] / M[\"m00\"])\n",
    "    cY = int(M[\"m01\"] / M[\"m00\"])\n",
    "    cv2.drawContours(frame,contours1, -1, (0,255,0), 2) \n",
    "    #cv2.imshow(\"contours\",frame)\n",
    "\n",
    "    #cv2.waitKey(0)\n",
    "    #cv2.destroyAllWindows()\n",
    "    return(cX,cY)\n"
   ]
  },
  {
   "cell_type": "code",
   "execution_count": 123,
   "metadata": {},
   "outputs": [
    {
     "name": "stdout",
     "output_type": "stream",
     "text": [
      "(85, 79)\n"
     ]
    }
   ],
   "source": [
    "print(line_follow())"
   ]
  },
  {
   "cell_type": "code",
   "execution_count": null,
   "metadata": {},
   "outputs": [],
   "source": []
  }
 ],
 "metadata": {
  "kernelspec": {
   "display_name": "Python 3",
   "language": "python",
   "name": "python3"
  },
  "language_info": {
   "codemirror_mode": {
    "name": "ipython",
    "version": 3
   },
   "file_extension": ".py",
   "mimetype": "text/x-python",
   "name": "python",
   "nbconvert_exporter": "python",
   "pygments_lexer": "ipython3",
   "version": "3.7.1"
  }
 },
 "nbformat": 4,
 "nbformat_minor": 2
}
